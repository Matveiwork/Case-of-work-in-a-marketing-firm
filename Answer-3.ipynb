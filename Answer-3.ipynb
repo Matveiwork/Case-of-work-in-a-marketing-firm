{
 "cells": [
  {
   "cell_type": "code",
   "execution_count": 1,
   "id": "ef59b5e2",
   "metadata": {},
   "outputs": [],
   "source": [
    "import pandas as pd\n",
    "import json\n",
    "import numpy as np\n",
    "import matplotlib.pyplot as plt\n",
    "import seaborn as sns\n",
    "import missingno as msno\n",
    "import sys\n",
    "import scipy.stats as st\n",
    "from sklearn.preprocessing import LabelEncoder\n",
    "if not sys.warnoptions:\n",
    "    import warnings\n",
    "    warnings.simplefilter(\"ignore\")\n",
    "    \n",
    "from statsmodels.stats.weightstats import ztest as ztest"
   ]
  },
  {
   "cell_type": "code",
   "execution_count": 2,
   "id": "47d2a620",
   "metadata": {},
   "outputs": [],
   "source": [
    "df = pd.read_pickle (\"df_clean\")"
   ]
  },
  {
   "cell_type": "code",
   "execution_count": 3,
   "id": "c06f0214",
   "metadata": {},
   "outputs": [
    {
     "data": {
      "text/html": [
       "<div>\n",
       "<style scoped>\n",
       "    .dataframe tbody tr th:only-of-type {\n",
       "        vertical-align: middle;\n",
       "    }\n",
       "\n",
       "    .dataframe tbody tr th {\n",
       "        vertical-align: top;\n",
       "    }\n",
       "\n",
       "    .dataframe thead th {\n",
       "        text-align: right;\n",
       "    }\n",
       "</style>\n",
       "<table border=\"1\" class=\"dataframe\">\n",
       "  <thead>\n",
       "    <tr style=\"text-align: right;\">\n",
       "      <th></th>\n",
       "      <th>user_id</th>\n",
       "      <th>funnel_stage</th>\n",
       "      <th>timestamp</th>\n",
       "      <th>profit</th>\n",
       "      <th>os</th>\n",
       "      <th>ad_channel</th>\n",
       "      <th>price</th>\n",
       "    </tr>\n",
       "  </thead>\n",
       "  <tbody>\n",
       "    <tr>\n",
       "      <th>35135</th>\n",
       "      <td>143761</td>\n",
       "      <td>consideration</td>\n",
       "      <td>152951</td>\n",
       "      <td>0.0</td>\n",
       "      <td>iOS</td>\n",
       "      <td>video</td>\n",
       "      <td>0.75</td>\n",
       "    </tr>\n",
       "    <tr>\n",
       "      <th>35136</th>\n",
       "      <td>718464</td>\n",
       "      <td>interest</td>\n",
       "      <td>152951</td>\n",
       "      <td>0.0</td>\n",
       "      <td>Android</td>\n",
       "      <td>video</td>\n",
       "      <td>0.75</td>\n",
       "    </tr>\n",
       "    <tr>\n",
       "      <th>35137</th>\n",
       "      <td>967495</td>\n",
       "      <td>consideration</td>\n",
       "      <td>152951</td>\n",
       "      <td>0.0</td>\n",
       "      <td>Android</td>\n",
       "      <td>video</td>\n",
       "      <td>0.75</td>\n",
       "    </tr>\n",
       "    <tr>\n",
       "      <th>35138</th>\n",
       "      <td>957953</td>\n",
       "      <td>interest</td>\n",
       "      <td>152951</td>\n",
       "      <td>0.0</td>\n",
       "      <td>Android</td>\n",
       "      <td>video</td>\n",
       "      <td>0.75</td>\n",
       "    </tr>\n",
       "    <tr>\n",
       "      <th>35139</th>\n",
       "      <td>96984</td>\n",
       "      <td>consideration</td>\n",
       "      <td>152951</td>\n",
       "      <td>0.0</td>\n",
       "      <td>iOS</td>\n",
       "      <td>video</td>\n",
       "      <td>0.75</td>\n",
       "    </tr>\n",
       "    <tr>\n",
       "      <th>...</th>\n",
       "      <td>...</td>\n",
       "      <td>...</td>\n",
       "      <td>...</td>\n",
       "      <td>...</td>\n",
       "      <td>...</td>\n",
       "      <td>...</td>\n",
       "      <td>...</td>\n",
       "    </tr>\n",
       "    <tr>\n",
       "      <th>123903</th>\n",
       "      <td>1043694</td>\n",
       "      <td>interest</td>\n",
       "      <td>198250</td>\n",
       "      <td>0.0</td>\n",
       "      <td>iOS</td>\n",
       "      <td>native</td>\n",
       "      <td>2.00</td>\n",
       "    </tr>\n",
       "    <tr>\n",
       "      <th>123904</th>\n",
       "      <td>373644</td>\n",
       "      <td>interest</td>\n",
       "      <td>198251</td>\n",
       "      <td>0.0</td>\n",
       "      <td>iOS</td>\n",
       "      <td>native</td>\n",
       "      <td>2.00</td>\n",
       "    </tr>\n",
       "    <tr>\n",
       "      <th>123905</th>\n",
       "      <td>90066</td>\n",
       "      <td>interest</td>\n",
       "      <td>198253</td>\n",
       "      <td>0.0</td>\n",
       "      <td>iOS</td>\n",
       "      <td>native</td>\n",
       "      <td>2.00</td>\n",
       "    </tr>\n",
       "    <tr>\n",
       "      <th>123906</th>\n",
       "      <td>114369</td>\n",
       "      <td>consideration</td>\n",
       "      <td>198254</td>\n",
       "      <td>0.0</td>\n",
       "      <td>iOS</td>\n",
       "      <td>native</td>\n",
       "      <td>2.00</td>\n",
       "    </tr>\n",
       "    <tr>\n",
       "      <th>123907</th>\n",
       "      <td>416802</td>\n",
       "      <td>consideration</td>\n",
       "      <td>198255</td>\n",
       "      <td>0.0</td>\n",
       "      <td>Android</td>\n",
       "      <td>native</td>\n",
       "      <td>2.00</td>\n",
       "    </tr>\n",
       "  </tbody>\n",
       "</table>\n",
       "<p>3805042 rows × 7 columns</p>\n",
       "</div>"
      ],
      "text/plain": [
       "        user_id   funnel_stage  timestamp  profit       os ad_channel  price\n",
       "35135    143761  consideration     152951     0.0      iOS      video   0.75\n",
       "35136    718464       interest     152951     0.0  Android      video   0.75\n",
       "35137    967495  consideration     152951     0.0  Android      video   0.75\n",
       "35138    957953       interest     152951     0.0  Android      video   0.75\n",
       "35139     96984  consideration     152951     0.0      iOS      video   0.75\n",
       "...         ...            ...        ...     ...      ...        ...    ...\n",
       "123903  1043694       interest     198250     0.0      iOS     native   2.00\n",
       "123904   373644       interest     198251     0.0      iOS     native   2.00\n",
       "123905    90066       interest     198253     0.0      iOS     native   2.00\n",
       "123906   114369  consideration     198254     0.0      iOS     native   2.00\n",
       "123907   416802  consideration     198255     0.0  Android     native   2.00\n",
       "\n",
       "[3805042 rows x 7 columns]"
      ]
     },
     "execution_count": 3,
     "metadata": {},
     "output_type": "execute_result"
    }
   ],
   "source": [
    "df"
   ]
  },
  {
   "cell_type": "code",
   "execution_count": 7,
   "id": "07a844d0",
   "metadata": {},
   "outputs": [
    {
     "data": {
      "text/html": [
       "<div>\n",
       "<style scoped>\n",
       "    .dataframe tbody tr th:only-of-type {\n",
       "        vertical-align: middle;\n",
       "    }\n",
       "\n",
       "    .dataframe tbody tr th {\n",
       "        vertical-align: top;\n",
       "    }\n",
       "\n",
       "    .dataframe thead th {\n",
       "        text-align: right;\n",
       "    }\n",
       "</style>\n",
       "<table border=\"1\" class=\"dataframe\">\n",
       "  <thead>\n",
       "    <tr style=\"text-align: right;\">\n",
       "      <th></th>\n",
       "      <th>funnel_stage</th>\n",
       "      <th>countorg</th>\n",
       "    </tr>\n",
       "  </thead>\n",
       "  <tbody>\n",
       "    <tr>\n",
       "      <th>0</th>\n",
       "      <td>consideration</td>\n",
       "      <td>50302</td>\n",
       "    </tr>\n",
       "    <tr>\n",
       "      <th>1</th>\n",
       "      <td>intent</td>\n",
       "      <td>52368</td>\n",
       "    </tr>\n",
       "    <tr>\n",
       "      <th>2</th>\n",
       "      <td>interest</td>\n",
       "      <td>469988</td>\n",
       "    </tr>\n",
       "    <tr>\n",
       "      <th>3</th>\n",
       "      <td>purchase</td>\n",
       "      <td>536</td>\n",
       "    </tr>\n",
       "  </tbody>\n",
       "</table>\n",
       "</div>"
      ],
      "text/plain": [
       "    funnel_stage  countorg\n",
       "0  consideration     50302\n",
       "1         intent     52368\n",
       "2       interest    469988\n",
       "3       purchase       536"
      ]
     },
     "execution_count": 7,
     "metadata": {},
     "output_type": "execute_result"
    }
   ],
   "source": [
    "df_organic = df.loc[df['ad_channel'].isin(['organic_traffic','other'])]\n",
    "\n",
    "df_organic = df_organic.groupby('funnel_stage',as_index=False).agg(countorg = ('user_id','count'))\n",
    "df_organic"
   ]
  },
  {
   "cell_type": "code",
   "execution_count": 8,
   "id": "144d81f7",
   "metadata": {},
   "outputs": [
    {
     "data": {
      "text/html": [
       "<div>\n",
       "<style scoped>\n",
       "    .dataframe tbody tr th:only-of-type {\n",
       "        vertical-align: middle;\n",
       "    }\n",
       "\n",
       "    .dataframe tbody tr th {\n",
       "        vertical-align: top;\n",
       "    }\n",
       "\n",
       "    .dataframe thead th {\n",
       "        text-align: right;\n",
       "    }\n",
       "</style>\n",
       "<table border=\"1\" class=\"dataframe\">\n",
       "  <thead>\n",
       "    <tr style=\"text-align: right;\">\n",
       "      <th></th>\n",
       "      <th>funnel_stage</th>\n",
       "      <th>countpay</th>\n",
       "    </tr>\n",
       "  </thead>\n",
       "  <tbody>\n",
       "    <tr>\n",
       "      <th>0</th>\n",
       "      <td>consideration</td>\n",
       "      <td>253819</td>\n",
       "    </tr>\n",
       "    <tr>\n",
       "      <th>1</th>\n",
       "      <td>intent</td>\n",
       "      <td>218189</td>\n",
       "    </tr>\n",
       "    <tr>\n",
       "      <th>2</th>\n",
       "      <td>interest</td>\n",
       "      <td>2756232</td>\n",
       "    </tr>\n",
       "    <tr>\n",
       "      <th>3</th>\n",
       "      <td>purchase</td>\n",
       "      <td>3608</td>\n",
       "    </tr>\n",
       "  </tbody>\n",
       "</table>\n",
       "</div>"
      ],
      "text/plain": [
       "    funnel_stage  countpay\n",
       "0  consideration    253819\n",
       "1         intent    218189\n",
       "2       interest   2756232\n",
       "3       purchase      3608"
      ]
     },
     "execution_count": 8,
     "metadata": {},
     "output_type": "execute_result"
    }
   ],
   "source": [
    "df_pay = df.loc[df['ad_channel'].isin(['video','banner','native','partner_network','rich','search'])]\n",
    "\n",
    "df_pay = df_pay.groupby('funnel_stage',as_index=False).agg(countpay = ('user_id','count'))\n",
    "df_pay"
   ]
  },
  {
   "cell_type": "code",
   "execution_count": 9,
   "id": "29fe29d2",
   "metadata": {},
   "outputs": [
    {
     "data": {
      "text/plain": [
       "Text(0, 0.5, 'Количество клиентов')"
      ]
     },
     "execution_count": 9,
     "metadata": {},
     "output_type": "execute_result"
    },
    {
     "data": {
      "image/png": "[encoded data removed]",
      "text/plain": [
       "<Figure size 640x480 with 1 Axes>"
      ]
     },
     "metadata": {},
     "output_type": "display_data"
    },
    {
     "data": {
      "image/png": "[encoded data removed]",
      "text/plain": [
       "<Figure size 640x480 with 1 Axes>"
      ]
     },
     "metadata": {},
     "output_type": "display_data"
    }
   ],
   "source": [
    "axes=df_organic.plot.bar('funnel_stage'),df_pay.plot.bar('funnel_stage')\n",
    "plt.xlabel(\"Этапы воронок\")\n",
    "plt.ylabel(\"Количество клиентов\")"
   ]
  },
  {
   "cell_type": "code",
   "execution_count": 10,
   "id": "e2bfbb1c",
   "metadata": {},
   "outputs": [
    {
     "data": {
      "text/plain": [
       "0.19818059325739995"
      ]
     },
     "execution_count": 10,
     "metadata": {},
     "output_type": "execute_result"
    }
   ],
   "source": [
    "consideration = 50302/253819\n",
    "consideration"
   ]
  },
  {
   "cell_type": "code",
   "execution_count": 11,
   "id": "1c236a49",
   "metadata": {},
   "outputs": [
    {
     "data": {
      "text/plain": [
       "0.17051830179752647"
      ]
     },
     "execution_count": 11,
     "metadata": {},
     "output_type": "execute_result"
    }
   ],
   "source": [
    "interest = 469988/2756232\n",
    "interest"
   ]
  },
  {
   "cell_type": "code",
   "execution_count": 12,
   "id": "e4d4d80f",
   "metadata": {},
   "outputs": [
    {
     "data": {
      "text/plain": [
       "0.24001209960172146"
      ]
     },
     "execution_count": 12,
     "metadata": {},
     "output_type": "execute_result"
    }
   ],
   "source": [
    "intent = 52368/218189\n",
    "intent"
   ]
  },
  {
   "cell_type": "code",
   "execution_count": 13,
   "id": "c86496f9",
   "metadata": {},
   "outputs": [
    {
     "data": {
      "text/plain": [
       "0.14855875831485588"
      ]
     },
     "execution_count": 13,
     "metadata": {},
     "output_type": "execute_result"
    }
   ],
   "source": [
    "purchase = 536/3608\n",
    "purchase"
   ]
  },
  {
   "cell_type": "markdown",
   "id": "2194c417",
   "metadata": {},
   "source": [
    "### По результатам анализа мы видим,что два канала органического трафика составляют большой процент новых клиентов от платного трафика(минимум 15 процентов),этот процент повышается с момента заинтересованности клиента, и резко падает после этапа намеревания купить,стоит выявить почему"
   ]
  },
  {
   "cell_type": "code",
   "execution_count": 14,
   "id": "f7dbb3d5",
   "metadata": {},
   "outputs": [],
   "source": [
    "Consideration = df.loc[df['funnel_stage'].isin(['consideration'])]\n",
    "Consideration_group = Consideration.groupby('ad_channel',as_index=False).agg(consideration_count=('user_id','count'))"
   ]
  },
  {
   "cell_type": "code",
   "execution_count": 15,
   "id": "bf2a40e2",
   "metadata": {},
   "outputs": [
    {
     "data": {
      "text/plain": [
       "<Axes: xlabel='ad_channel'>"
      ]
     },
     "execution_count": 15,
     "metadata": {},
     "output_type": "execute_result"
    },
    {
     "data": {
      "image/png": "[encoded data removed]",
      "text/plain": [
       "<Figure size 640x480 with 1 Axes>"
      ]
     },
     "metadata": {},
     "output_type": "display_data"
    }
   ],
   "source": [
    "Consideration_group.plot.bar('ad_channel',color='orange')"
   ]
  },
  {
   "cell_type": "code",
   "execution_count": 16,
   "id": "e8575e22",
   "metadata": {},
   "outputs": [
    {
     "data": {
      "text/html": [
       "<div>\n",
       "<style scoped>\n",
       "    .dataframe tbody tr th:only-of-type {\n",
       "        vertical-align: middle;\n",
       "    }\n",
       "\n",
       "    .dataframe tbody tr th {\n",
       "        vertical-align: top;\n",
       "    }\n",
       "\n",
       "    .dataframe thead th {\n",
       "        text-align: right;\n",
       "    }\n",
       "</style>\n",
       "<table border=\"1\" class=\"dataframe\">\n",
       "  <thead>\n",
       "    <tr style=\"text-align: right;\">\n",
       "      <th></th>\n",
       "      <th>ad_channel</th>\n",
       "      <th>consideration_count</th>\n",
       "    </tr>\n",
       "  </thead>\n",
       "  <tbody>\n",
       "    <tr>\n",
       "      <th>0</th>\n",
       "      <td>banner</td>\n",
       "      <td>42937</td>\n",
       "    </tr>\n",
       "    <tr>\n",
       "      <th>1</th>\n",
       "      <td>native</td>\n",
       "      <td>11408</td>\n",
       "    </tr>\n",
       "    <tr>\n",
       "      <th>2</th>\n",
       "      <td>organic_traffic</td>\n",
       "      <td>48666</td>\n",
       "    </tr>\n",
       "    <tr>\n",
       "      <th>3</th>\n",
       "      <td>other</td>\n",
       "      <td>1636</td>\n",
       "    </tr>\n",
       "    <tr>\n",
       "      <th>4</th>\n",
       "      <td>partner_network</td>\n",
       "      <td>22421</td>\n",
       "    </tr>\n",
       "    <tr>\n",
       "      <th>5</th>\n",
       "      <td>rich</td>\n",
       "      <td>4229</td>\n",
       "    </tr>\n",
       "    <tr>\n",
       "      <th>6</th>\n",
       "      <td>search</td>\n",
       "      <td>117649</td>\n",
       "    </tr>\n",
       "    <tr>\n",
       "      <th>7</th>\n",
       "      <td>video</td>\n",
       "      <td>55175</td>\n",
       "    </tr>\n",
       "  </tbody>\n",
       "</table>\n",
       "</div>"
      ],
      "text/plain": [
       "        ad_channel  consideration_count\n",
       "0           banner                42937\n",
       "1           native                11408\n",
       "2  organic_traffic                48666\n",
       "3            other                 1636\n",
       "4  partner_network                22421\n",
       "5             rich                 4229\n",
       "6           search               117649\n",
       "7            video                55175"
      ]
     },
     "execution_count": 16,
     "metadata": {},
     "output_type": "execute_result"
    }
   ],
   "source": [
    "Consideration_group"
   ]
  },
  {
   "cell_type": "code",
   "execution_count": 17,
   "id": "b5757ffb",
   "metadata": {},
   "outputs": [],
   "source": [
    "Intent = df.loc[df['funnel_stage'].isin(['intent'])]\n",
    "intent_group = Intent.groupby('ad_channel',as_index=False).agg(intent_count=('user_id','count'))"
   ]
  },
  {
   "cell_type": "code",
   "execution_count": 18,
   "id": "66b3c57c",
   "metadata": {},
   "outputs": [
    {
     "data": {
      "text/plain": [
       "<Axes: xlabel='ad_channel'>"
      ]
     },
     "execution_count": 18,
     "metadata": {},
     "output_type": "execute_result"
    },
    {
     "data": {
      "image/png": "[encoded data removed]",
      "text/plain": [
       "<Figure size 640x480 with 1 Axes>"
      ]
     },
     "metadata": {},
     "output_type": "display_data"
    }
   ],
   "source": [
    "intent_group.plot.bar('ad_channel',color='purple')"
   ]
  },
  {
   "cell_type": "code",
   "execution_count": 19,
   "id": "0c5c84ef",
   "metadata": {},
   "outputs": [
    {
     "data": {
      "text/html": [
       "<div>\n",
       "<style scoped>\n",
       "    .dataframe tbody tr th:only-of-type {\n",
       "        vertical-align: middle;\n",
       "    }\n",
       "\n",
       "    .dataframe tbody tr th {\n",
       "        vertical-align: top;\n",
       "    }\n",
       "\n",
       "    .dataframe thead th {\n",
       "        text-align: right;\n",
       "    }\n",
       "</style>\n",
       "<table border=\"1\" class=\"dataframe\">\n",
       "  <thead>\n",
       "    <tr style=\"text-align: right;\">\n",
       "      <th></th>\n",
       "      <th>ad_channel</th>\n",
       "      <th>intent_count</th>\n",
       "    </tr>\n",
       "  </thead>\n",
       "  <tbody>\n",
       "    <tr>\n",
       "      <th>0</th>\n",
       "      <td>banner</td>\n",
       "      <td>51441</td>\n",
       "    </tr>\n",
       "    <tr>\n",
       "      <th>1</th>\n",
       "      <td>native</td>\n",
       "      <td>1915</td>\n",
       "    </tr>\n",
       "    <tr>\n",
       "      <th>2</th>\n",
       "      <td>organic_traffic</td>\n",
       "      <td>51601</td>\n",
       "    </tr>\n",
       "    <tr>\n",
       "      <th>3</th>\n",
       "      <td>other</td>\n",
       "      <td>767</td>\n",
       "    </tr>\n",
       "    <tr>\n",
       "      <th>4</th>\n",
       "      <td>partner_network</td>\n",
       "      <td>24219</td>\n",
       "    </tr>\n",
       "    <tr>\n",
       "      <th>5</th>\n",
       "      <td>rich</td>\n",
       "      <td>8130</td>\n",
       "    </tr>\n",
       "    <tr>\n",
       "      <th>6</th>\n",
       "      <td>search</td>\n",
       "      <td>132430</td>\n",
       "    </tr>\n",
       "    <tr>\n",
       "      <th>7</th>\n",
       "      <td>video</td>\n",
       "      <td>54</td>\n",
       "    </tr>\n",
       "  </tbody>\n",
       "</table>\n",
       "</div>"
      ],
      "text/plain": [
       "        ad_channel  intent_count\n",
       "0           banner         51441\n",
       "1           native          1915\n",
       "2  organic_traffic         51601\n",
       "3            other           767\n",
       "4  partner_network         24219\n",
       "5             rich          8130\n",
       "6           search        132430\n",
       "7            video            54"
      ]
     },
     "execution_count": 19,
     "metadata": {},
     "output_type": "execute_result"
    }
   ],
   "source": [
    "intent_group"
   ]
  },
  {
   "cell_type": "code",
   "execution_count": 20,
   "id": "179fd050",
   "metadata": {},
   "outputs": [],
   "source": [
    "Purchase = df.loc[df['funnel_stage'].isin(['purchase'])]\n",
    "purchase_group = Purchase.groupby('ad_channel',as_index=False).agg(purchase_count=('user_id','count'))"
   ]
  },
  {
   "cell_type": "code",
   "execution_count": 21,
   "id": "c70f81f6",
   "metadata": {},
   "outputs": [
    {
     "data": {
      "text/plain": [
       "<Axes: xlabel='ad_channel'>"
      ]
     },
     "execution_count": 21,
     "metadata": {},
     "output_type": "execute_result"
    },
    {
     "data": {
      "image/png": "[encoded data removed]",
      "text/plain": [
       "<Figure size 640x480 with 1 Axes>"
      ]
     },
     "metadata": {},
     "output_type": "display_data"
    }
   ],
   "source": [
    "purchase_group.plot.bar('ad_channel',color='red')"
   ]
  },
  {
   "cell_type": "code",
   "execution_count": 22,
   "id": "0a43f7f5",
   "metadata": {},
   "outputs": [
    {
     "data": {
      "text/html": [
       "<div>\n",
       "<style scoped>\n",
       "    .dataframe tbody tr th:only-of-type {\n",
       "        vertical-align: middle;\n",
       "    }\n",
       "\n",
       "    .dataframe tbody tr th {\n",
       "        vertical-align: top;\n",
       "    }\n",
       "\n",
       "    .dataframe thead th {\n",
       "        text-align: right;\n",
       "    }\n",
       "</style>\n",
       "<table border=\"1\" class=\"dataframe\">\n",
       "  <thead>\n",
       "    <tr style=\"text-align: right;\">\n",
       "      <th></th>\n",
       "      <th>ad_channel</th>\n",
       "      <th>purchase_count</th>\n",
       "    </tr>\n",
       "  </thead>\n",
       "  <tbody>\n",
       "    <tr>\n",
       "      <th>0</th>\n",
       "      <td>banner</td>\n",
       "      <td>636</td>\n",
       "    </tr>\n",
       "    <tr>\n",
       "      <th>1</th>\n",
       "      <td>native</td>\n",
       "      <td>33</td>\n",
       "    </tr>\n",
       "    <tr>\n",
       "      <th>2</th>\n",
       "      <td>organic_traffic</td>\n",
       "      <td>498</td>\n",
       "    </tr>\n",
       "    <tr>\n",
       "      <th>3</th>\n",
       "      <td>other</td>\n",
       "      <td>38</td>\n",
       "    </tr>\n",
       "    <tr>\n",
       "      <th>4</th>\n",
       "      <td>partner_network</td>\n",
       "      <td>407</td>\n",
       "    </tr>\n",
       "    <tr>\n",
       "      <th>5</th>\n",
       "      <td>rich</td>\n",
       "      <td>20</td>\n",
       "    </tr>\n",
       "    <tr>\n",
       "      <th>6</th>\n",
       "      <td>search</td>\n",
       "      <td>2507</td>\n",
       "    </tr>\n",
       "    <tr>\n",
       "      <th>7</th>\n",
       "      <td>video</td>\n",
       "      <td>5</td>\n",
       "    </tr>\n",
       "  </tbody>\n",
       "</table>\n",
       "</div>"
      ],
      "text/plain": [
       "        ad_channel  purchase_count\n",
       "0           banner             636\n",
       "1           native              33\n",
       "2  organic_traffic             498\n",
       "3            other              38\n",
       "4  partner_network             407\n",
       "5             rich              20\n",
       "6           search            2507\n",
       "7            video               5"
      ]
     },
     "execution_count": 22,
     "metadata": {},
     "output_type": "execute_result"
    }
   ],
   "source": [
    "purchase_group"
   ]
  },
  {
   "cell_type": "markdown",
   "id": "0460d4e6",
   "metadata": {},
   "source": [
    "### Проанализируем графики и выделим худшие и лучшие по сумме действий клиентов(consideration,intent,purchase).Худшие:video,rich,native. Лучшие:search,banner,organic_traffic"
   ]
  },
  {
   "cell_type": "markdown",
   "id": "3e8cb6d2",
   "metadata": {},
   "source": [
    "### Гипотезы:\n",
    "    1)Если повысить органический трафик ,то прибыль вырастет\n",
    "    2)Если развить каналы banner,partner_network,то удержание клиентов вырастет\n",
    "    3)Если организовать приток клиентов ориентированных на использование Android,то конверсия в покупку вырастет"
   ]
  },
  {
   "cell_type": "markdown",
   "id": "263ea387",
   "metadata": {},
   "source": [
    "## По результатам анализа непригодным для продолжения использования можно признать канал -- video.Этот канал не приносит никакой прибыли,клиенты неудерживаются идя по нему(уходят на этапе consideration).Так же расходы на него составляют выше почти всех каналов,при этом нет конверсии в покупку.Стоит переаспределить активность на каналы:banner,partner_network.Так как по этим каналам прибыль больше,чем расходы по ним. Так же удержание по этим каналам держится на всех этапах воронки.По анализам метрик,можно сформулировать гипотезу о том,что если перераспределить ресурс с канала video на каналы banner,partner_network,то прибыль вырастет"
   ]
  },
  {
   "cell_type": "code",
   "execution_count": null,
   "id": "2ad3badd",
   "metadata": {},
   "outputs": [],
   "source": []
  }
 ],
 "metadata": {
  "kernelspec": {
   "display_name": "Python 3 (ipykernel)",
   "language": "python",
   "name": "python3"
  },
  "language_info": {
   "codemirror_mode": {
    "name": "ipython",
    "version": 3
   },
   "file_extension": ".py",
   "mimetype": "text/x-python",
   "name": "python",
   "nbconvert_exporter": "python",
   "pygments_lexer": "ipython3",
   "version": "3.11.5"
  }
 },
 "nbformat": 4,
 "nbformat_minor": 5
}
